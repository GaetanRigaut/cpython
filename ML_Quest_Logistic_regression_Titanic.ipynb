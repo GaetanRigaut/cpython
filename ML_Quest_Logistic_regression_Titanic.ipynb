{
  "nbformat": 4,
  "nbformat_minor": 0,
  "metadata": {
    "colab": {
      "provenance": [],
      "include_colab_link": true
    },
    "kernelspec": {
      "name": "python3",
      "display_name": "Python 3"
    },
    "language_info": {
      "name": "python"
    }
  },
  "cells": [
    {
      "cell_type": "markdown",
      "metadata": {
        "id": "view-in-github",
        "colab_type": "text"
      },
      "source": [
        "<a href=\"https://colab.research.google.com/github/GaetanRigaut/cpython/blob/main/ML_Quest_Logistic_regression_Titanic.ipynb\" target=\"_parent\"><img src=\"https://colab.research.google.com/assets/colab-badge.svg\" alt=\"Open In Colab\"/></a>"
      ]
    },
    {
      "cell_type": "markdown",
      "source": [
        "# Execute the code below\n",
        "You will get a passenger list of the titanic."
      ],
      "metadata": {
        "id": "pAAk6e_2dBMo"
      }
    },
    {
      "cell_type": "code",
      "execution_count": null,
      "metadata": {
        "id": "_kd9sbNQc00O"
      },
      "outputs": [],
      "source": [
        "import matplotlib.pyplot as plt\n",
        "import pandas as pd\n",
        "import numpy as np\n",
        "import seaborn as sns\n",
        "link = \"https://raw.githubusercontent.com/murpi/wilddata/master/quests/titanic.csv\"\n",
        "df_titanic = pd.read_csv(link)\n",
        "df_titanic['Survived'] = df_titanic['Survived'].apply(lambda x: \"Survived\" if x == 1 else \"Dead\")\n",
        "df_titanic.head()"
      ]
    },
    {
      "cell_type": "markdown",
      "source": [
        "# Data preparation\n",
        "\n",
        "What are the \"type\" of each column? Are there non-numeric columns?"
      ],
      "metadata": {
        "id": "_FmV93NAdIHU"
      }
    },
    {
      "cell_type": "code",
      "source": [
        "# prompt:\n",
        "\n",
        "df_titanic.dtypes\n"
      ],
      "metadata": {
        "id": "Zc7pi2EOdKfq"
      },
      "execution_count": null,
      "outputs": []
    },
    {
      "cell_type": "markdown",
      "source": [
        "Then, make a first exploration (pairplots, correlation heatmaps, etc...) of the dataset"
      ],
      "metadata": {
        "id": "OF18AeOBdNqx"
      }
    },
    {
      "cell_type": "code",
      "source": [],
      "metadata": {
        "id": "9eoatP-_dOL3"
      },
      "execution_count": null,
      "outputs": []
    },
    {
      "cell_type": "markdown",
      "source": [
        "You are looking for Jack. How many people named Jack on board?"
      ],
      "metadata": {
        "id": "TuobhDhodSF2"
      }
    },
    {
      "cell_type": "code",
      "source": [],
      "metadata": {
        "id": "PyDnNB85dSl4"
      },
      "execution_count": null,
      "outputs": []
    },
    {
      "cell_type": "markdown",
      "source": [
        "# Logistic regression\n",
        "\n",
        "Today, in this quest, you have an extraordinary power: you can travel in time to try to save some passengers.\n",
        "You obviously wanted to save Jack. But you didn't find his name on the list. He probably travels under a false name...\n",
        "Too bad, thanks to this trip, you will still try to save as many people as possible. To do this, you have to identify the people who are most probably going to die.\n",
        "\n",
        "- Select features (X) with only numeric values, and without \"Survived\" column\n",
        "- Select \"Survived\" column as target (y)\n",
        "- Split your data with **random_state = 36**\n",
        "- Train a logistic regression\n",
        "- Print the accuracy score on the train set and on the test set. Is there overfitting?\n",
        "- Print the Confusion Matrix on the test set\n",
        "- How many iterations were needed to train this model?"
      ],
      "metadata": {
        "id": "QphK7UWtdVdu"
      }
    },
    {
      "cell_type": "code",
      "source": [],
      "metadata": {
        "id": "UWeG0H8bdWaq"
      },
      "execution_count": null,
      "outputs": []
    },
    {
      "cell_type": "markdown",
      "source": [
        "# Model improvement\n",
        "\n",
        "With your fancy time machine, you can, and you will save all the people that the model will predict as dead. But you won't save people predicted as \"survived\" (because it's not necessary). So change the weights of the classes to be very careful: your goal is to save all the people at risk. So, in this case, it's better to have \"actual survived\" peopple predicted as death, because you'll save them anyway. Otherwise, \"actual death\" predicted as survived won't be saved by your time machine.\n",
        "- Change the weight of the classes\n",
        "- Fit the model on train set\n",
        "- Print the accuracy score on the train set and on the test set\n",
        "- Print the Confusion Matrix on the test set, you must have no deaths that have been predicted as \"Survived\"."
      ],
      "metadata": {
        "id": "WOyzNTn-dZPI"
      }
    },
    {
      "cell_type": "code",
      "source": [],
      "metadata": {
        "id": "7oeUAdOidZvL"
      },
      "execution_count": null,
      "outputs": []
    },
    {
      "cell_type": "markdown",
      "source": [
        "# People most at risk\n",
        "\n",
        "You are looking for people most at risk.\n",
        "- Compute the prediction probabilities **on your test set**\n",
        "- Which column is about \"survived\" probability?\n",
        "- Among the previous prediction probability array, select only the column corresponding to the \"Survived\" probability\n",
        "- Display the passengers by sorting  most likely to survive first (`sorted_values()` method?)"
      ],
      "metadata": {
        "id": "loAkg__BdcEp"
      }
    },
    {
      "cell_type": "code",
      "source": [],
      "metadata": {
        "id": "5tBQTD4mdgK3"
      },
      "execution_count": null,
      "outputs": []
    },
    {
      "cell_type": "markdown",
      "source": [
        "# Bonus - Model improvement, under constraint\n",
        "\n",
        "Your time travel boss tells you that there's a budget cut. You now can only save 120 people max. Not one more.\n",
        "\n",
        "If your model predicts as \"dead\" someone who would have survived in reality. You then \"save\" that person, who would have survived even without your time-traveling help. And you take the place of someone who could have been saved. That's not optimal.\n",
        "\n",
        "Select the 120 people with the highest probability of dying. Of these, how many actually survived?"
      ],
      "metadata": {
        "id": "SzC1yGd7dfMH"
      }
    },
    {
      "cell_type": "code",
      "source": [],
      "metadata": {
        "id": "VX7N8OO1df0u"
      },
      "execution_count": null,
      "outputs": []
    },
    {
      "cell_type": "markdown",
      "source": [
        "# Bonus - More predictions\n",
        "\n",
        "Does the Reverend \"Rev. Juozas Montvila\" have a better chance of survival than \"Mrs. William (Margaret Norton) Rice\"?\n",
        "- Filter the initial DataFrame to get only the 2 rows with the 2 persons above, and only columns present in your variables (X)\n",
        "- Make a prediction with probability for this 2 people\n",
        "- Which one has a better chance to survive?\n"
      ],
      "metadata": {
        "id": "wbhbeeIOdgq5"
      }
    },
    {
      "cell_type": "code",
      "source": [],
      "metadata": {
        "id": "KFdiwawUdi6I"
      },
      "execution_count": null,
      "outputs": []
    }
  ]
}